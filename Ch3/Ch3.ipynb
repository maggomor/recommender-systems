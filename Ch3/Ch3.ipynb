{
 "cells": [
  {
   "cell_type": "markdown",
   "metadata": {},
   "source": [
    "# 3. Model-Based Collaborative Filtering\n",
    "\n",
    "In this chapter we will deal with model-based collaborative filtering. This is the case when we do not use simply heuristics to arrive at predictions but we impose a model structure which we then attempt to estimate. Examples can be latent-factor-models but also e.g. Naive Bayers."
   ]
  },
  {
   "cell_type": "markdown",
   "metadata": {},
   "source": [
    "### 3.1 Introduction"
   ]
  },
  {
   "cell_type": "code",
   "execution_count": null,
   "metadata": {},
   "outputs": [],
   "source": []
  }
 ],
 "metadata": {
  "language_info": {
   "name": "python"
  }
 },
 "nbformat": 4,
 "nbformat_minor": 2
}
