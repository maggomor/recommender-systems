{
 "cells": [
  {
   "cell_type": "markdown",
   "metadata": {},
   "source": [
    "# 0. Import standard packages"
   ]
  },
  {
   "cell_type": "code",
   "execution_count": 71,
   "metadata": {},
   "outputs": [],
   "source": [
    "import pandas as pd \n",
    "import numpy as np\n",
    "import scipy as sp\n",
    "import matplotlib.pyplot as plt\n",
    "import seaborn as sns"
   ]
  },
  {
   "cell_type": "markdown",
   "metadata": {},
   "source": [
    "# 1. Set-Up of Matrices for Collaborative filtering\n",
    "\n",
    "First we want to implement the ratings matrix from Table 2.1 featuring 5 users and 6 items. We want to employ a simple user-based and item-based model for imputing ratings. For that we will use the cosine and the pearson-correlation-coefficient."
   ]
  },
  {
   "cell_type": "code",
   "execution_count": 72,
   "metadata": {},
   "outputs": [],
   "source": [
    "# create the tables 2.1 and 2.2\n",
    "\n",
    "table_2_1 = np.array([[7, 6, 7, 4, 5 , 4], [6,7,np.nan, 4,3,4], [np.nan, 3, 3, 1, 1, np.nan], [1, 2, 2 , 3 ,3 , 4], [1, np.nan, 1, 2, 3, 3]])"
   ]
  },
  {
   "cell_type": "code",
   "execution_count": 73,
   "metadata": {},
   "outputs": [
    {
     "data": {
      "text/plain": [
       "array([[ 7.,  6.,  7.,  4.,  5.,  4.],\n",
       "       [ 6.,  7., nan,  4.,  3.,  4.],\n",
       "       [nan,  3.,  3.,  1.,  1., nan],\n",
       "       [ 1.,  2.,  2.,  3.,  3.,  4.],\n",
       "       [ 1., nan,  1.,  2.,  3.,  3.]])"
      ]
     },
     "execution_count": 73,
     "metadata": {},
     "output_type": "execute_result"
    }
   ],
   "source": [
    "table_2_1"
   ]
  },
  {
   "cell_type": "markdown",
   "metadata": {},
   "source": [
    "Next, we want to compute the pearson-correlation-coefficient. The formula for this is:\n",
    "\n",
    "$ \\mu_u = \\frac{\\sum_{k \\in I_{u}} r_{uk}}{|I_{u}|} $\n",
    "\n",
    "$  Sim(u,v) = Pearson(u,v) = \\frac{\\sum_{k \\in I_{u} \\cup I_{v}} (r_{uk}- \\mu_{u}) \\cdot (r_{uk}- \\mu_{u}) }{\\sqrt{\\sum_{k \\in I_{u}\\cup I_{v}} (r_{uk}- \\mu_{u})^2} \\cdot \\sqrt{\\sum_{k \\in I_{u}\\cup I_{v}} (r_{vk}- \\mu_{v})^2}} $"
   ]
  },
  {
   "cell_type": "code",
   "execution_count": 74,
   "metadata": {},
   "outputs": [],
   "source": [
    "def pearson_corr(table, x: int, y: int):\n",
    "    # x and y are the rows of table on which to perform computation\n",
    "    # get I_x and I_y\n",
    "    I_x = np.where(np.isnan(table[x]) == False)[0]\n",
    "    I_y = np.where(np.isnan(table[y]) == False)[0]\n",
    "    # get the common indices\n",
    "    I = np.intersect1d(I_x, I_y)\n",
    "    # get the mean of x and y\n",
    "    x_mean = np.mean(table[x][I])\n",
    "    y_mean = np.mean(table[y][I])\n",
    "    # get the numerator\n",
    "    numerator = np.sum((table[x][I] - x_mean)*(table[y][I] - y_mean))\n",
    "    # get the denominator\n",
    "    denominator = np.sqrt(np.sum((table[x][I] - x_mean)**2)*np.sum((table[y][I] - y_mean)**2))\n",
    "    # get the correlation\n",
    "    corr = numerator/denominator\n",
    "    return corr"
   ]
  },
  {
   "cell_type": "markdown",
   "metadata": {},
   "source": [
    "Let's compute the correlation coefficient for rows 0 and 2 (1 and 3 in the book). In the book, it is given as 0.894."
   ]
  },
  {
   "cell_type": "code",
   "execution_count": 75,
   "metadata": {},
   "outputs": [
    {
     "data": {
      "text/plain": [
       "np.float64(0.8944271909999159)"
      ]
     },
     "execution_count": 75,
     "metadata": {},
     "output_type": "execute_result"
    }
   ],
   "source": [
    "pearson_corr(table_2_1, 0, 2)"
   ]
  },
  {
   "cell_type": "markdown",
   "metadata": {},
   "source": [
    "While we're at it, we can also compute the entire correlation matrix:"
   ]
  },
  {
   "cell_type": "code",
   "execution_count": 76,
   "metadata": {},
   "outputs": [
    {
     "data": {
      "text/plain": [
       "array([[ 1.        ,  0.72347804,  0.89442719, -0.8992288 , -0.82422559],\n",
       "       [ 0.72347804,  1.        ,  0.97072534, -0.72057669, -0.8992288 ],\n",
       "       [ 0.89442719,  0.97072534,  1.        , -1.        , -0.8660254 ],\n",
       "       [-0.8992288 , -0.72057669, -1.        ,  1.        ,  0.87705802],\n",
       "       [-0.82422559, -0.8992288 , -0.8660254 ,  0.87705802,  1.        ]])"
      ]
     },
     "execution_count": 76,
     "metadata": {},
     "output_type": "execute_result"
    }
   ],
   "source": [
    "# generate a correlation matrix for the table\n",
    "corr_matrix = np.zeros((5,5))\n",
    "for i in range(5):\n",
    "    for j in range(5):\n",
    "        corr_matrix[i,j] = pearson_corr(table_2_1, i, j)\n",
    "\n",
    "corr_matrix"
   ]
  },
  {
   "cell_type": "markdown",
   "metadata": {},
   "source": [
    "Let's write a function that does this:"
   ]
  },
  {
   "cell_type": "code",
   "execution_count": 77,
   "metadata": {},
   "outputs": [],
   "source": [
    "def corr_matrix_func(table, dimension):\n",
    "    if dimension == 0:\n",
    "        number = table.shape[dimension]\n",
    "        corr_matrix = np.zeros((number, number))\n",
    "        for i in range(number):\n",
    "            for j in range(number):\n",
    "                corr_matrix[i,j] = pearson_corr(table, i, j)\n",
    "    elif dimension == 1:\n",
    "        number = table.shape[dimension]\n",
    "        corr_matrix = np.zeros((number, number))\n",
    "        table = table.T\n",
    "        for i in range(number):\n",
    "            for j in range(number):\n",
    "                corr_matrix[i,j] = pearson_corr(table, i, j)\n",
    "    else:\n",
    "        print(\"Invalid dimension\")\n",
    "        return None\n",
    "    return corr_matrix"
   ]
  },
  {
   "cell_type": "code",
   "execution_count": 78,
   "metadata": {},
   "outputs": [
    {
     "data": {
      "text/plain": [
       "array([[ 1.        ,  0.72347804,  0.89442719, -0.8992288 , -0.82422559],\n",
       "       [ 0.72347804,  1.        ,  0.97072534, -0.72057669, -0.8992288 ],\n",
       "       [ 0.89442719,  0.97072534,  1.        , -1.        , -0.8660254 ],\n",
       "       [-0.8992288 , -0.72057669, -1.        ,  1.        ,  0.87705802],\n",
       "       [-0.82422559, -0.8992288 , -0.8660254 ,  0.87705802,  1.        ]])"
      ]
     },
     "execution_count": 78,
     "metadata": {},
     "output_type": "execute_result"
    }
   ],
   "source": [
    "corr_matrix_func(table = table_2_1, dimension = 0)"
   ]
  },
  {
   "cell_type": "code",
   "execution_count": 79,
   "metadata": {},
   "outputs": [
    {
     "name": "stderr",
     "output_type": "stream",
     "text": [
      "C:\\Users\\maggo\\AppData\\Local\\Temp\\ipykernel_18816\\2376229201.py:16: RuntimeWarning: invalid value encountered in scalar divide\n",
      "  corr = numerator/denominator\n"
     ]
    },
    {
     "data": {
      "text/plain": [
       "(array([[ 1.        ,  0.72347804,  0.89442719, -0.8992288 , -0.82422559],\n",
       "        [ 0.72347804,  1.        ,  0.97072534, -0.72057669, -0.8992288 ],\n",
       "        [ 0.89442719,  0.97072534,  1.        , -1.        , -0.8660254 ],\n",
       "        [-0.8992288 , -0.72057669, -1.        ,  1.        ,  0.87705802],\n",
       "        [-0.82422559, -0.8992288 , -0.8660254 ,  0.87705802,  1.        ]]),\n",
       " array([[1.        , 0.94063416, 0.98782916, 0.89714996, 0.67675297,\n",
       "         0.57263713],\n",
       "        [0.94063416, 1.        , 0.99862543, 0.69310328, 0.51449576,\n",
       "                nan],\n",
       "        [0.98782916, 0.99862543, 1.        , 0.6381449 , 0.62092042,\n",
       "         0.62861856],\n",
       "        [0.89714996, 0.69310328, 0.6381449 , 1.        , 0.81348922,\n",
       "         0.87038828],\n",
       "        [0.67675297, 0.51449576, 0.62092042, 0.81348922, 1.        ,\n",
       "         0.33333333],\n",
       "        [0.57263713,        nan, 0.62861856, 0.87038828, 0.33333333,\n",
       "         1.        ]]))"
      ]
     },
     "execution_count": 79,
     "metadata": {},
     "output_type": "execute_result"
    }
   ],
   "source": [
    "corr_matrix_func(table_2_1, 0), corr_matrix_func(table_2_1, 1)"
   ]
  },
  {
   "cell_type": "markdown",
   "metadata": {},
   "source": [
    "This way we can compute the correlation coefficient both for rows or columns.\n",
    "\n",
    "Next, we can demean the rating in every line."
   ]
  },
  {
   "cell_type": "code",
   "execution_count": 80,
   "metadata": {},
   "outputs": [],
   "source": [
    "def demean_func(table):\n",
    "    # demean the table\n",
    "    new_table = np.zeros(table.shape)\n",
    "    for i in range(table.shape[0]):\n",
    "        I = np.where(np.isnan(table[i]) == False)[0]\n",
    "        new_table[i][I] = table[i][I] - np.mean(table[i][I])\n",
    "    return new_table"
   ]
  },
  {
   "cell_type": "code",
   "execution_count": 81,
   "metadata": {},
   "outputs": [
    {
     "data": {
      "text/plain": [
       "array([[ 1.5,  0.5,  1.5, -1.5, -0.5, -1.5],\n",
       "       [ 1.2,  2.2,  0. , -0.8, -1.8, -0.8],\n",
       "       [ 0. ,  1. ,  1. , -1. , -1. ,  0. ],\n",
       "       [-1.5, -0.5, -0.5,  0.5,  0.5,  1.5],\n",
       "       [-1. ,  0. , -1. ,  0. ,  1. ,  1. ]])"
      ]
     },
     "execution_count": 81,
     "metadata": {},
     "output_type": "execute_result"
    }
   ],
   "source": [
    "table_2_2 = demean_func(table_2_1)\n",
    "table_2_2"
   ]
  },
  {
   "cell_type": "markdown",
   "metadata": {},
   "source": [
    "We also want to store the means somewhere. Let us write a function for that."
   ]
  },
  {
   "cell_type": "code",
   "execution_count": 120,
   "metadata": {},
   "outputs": [
    {
     "data": {
      "text/plain": [
       "array([5.5, 4.8, 2. , 2.5, 2. ])"
      ]
     },
     "execution_count": 120,
     "metadata": {},
     "output_type": "execute_result"
    }
   ],
   "source": [
    "def mean_compute(table, dimension = 0):\n",
    "    # compute the mean of the table\n",
    "    if dimension == 1:\n",
    "        table_copy = table.T\n",
    "    else:\n",
    "        table_copy = table\n",
    "    mean = np.zeros(table_copy.shape[0])\n",
    "    for i in range(table_copy.shape[0]):\n",
    "        I = np.where(np.isnan(table_copy[i]) == False)[0]\n",
    "        mean[i] = np.mean(table_copy[i][I])\n",
    "    return mean\n",
    "\n",
    "user_mean = mean_compute(table_2_1, 0)\n",
    "user_mean"
   ]
  },
  {
   "cell_type": "code",
   "execution_count": 121,
   "metadata": {},
   "outputs": [
    {
     "data": {
      "text/plain": [
       "array([3.75, 4.5 , 3.25, 2.8 , 3.  , 3.75])"
      ]
     },
     "execution_count": 121,
     "metadata": {},
     "output_type": "execute_result"
    }
   ],
   "source": [
    "mean_compute(table_2_1, 1)"
   ]
  },
  {
   "cell_type": "markdown",
   "metadata": {},
   "source": [
    "We can use the demeaned table to better predict a rating. Suppose that we want to predict for user in 3 (row-index 2) their ratings for movies 1 and 6 (indices 0 and 5, respectively). We can first compute the set of relevant neighbours as those whose correlation exceeds 0.7 (as an arbitrary benchmark)."
   ]
  },
  {
   "cell_type": "code",
   "execution_count": 87,
   "metadata": {},
   "outputs": [
    {
     "data": {
      "text/plain": [
       "array([[ 1.        ,  0.72347804,  0.89442719, -0.8992288 , -0.82422559],\n",
       "       [ 0.72347804,  1.        ,  0.97072534, -0.72057669, -0.8992288 ],\n",
       "       [ 0.89442719,  0.97072534,  1.        , -1.        , -0.8660254 ],\n",
       "       [-0.8992288 , -0.72057669, -1.        ,  1.        ,  0.87705802],\n",
       "       [-0.82422559, -0.8992288 , -0.8660254 ,  0.87705802,  1.        ]])"
      ]
     },
     "execution_count": 87,
     "metadata": {},
     "output_type": "execute_result"
    }
   ],
   "source": [
    "corr_matrix_table_2_2 = corr_matrix_func(table_2_1, 0)\n",
    "corr_matrix_table_2_2"
   ]
  },
  {
   "cell_type": "markdown",
   "metadata": {},
   "source": [
    "Aside from themselves, this is the case for users 1 and 2 (indices 0 and 1):"
   ]
  },
  {
   "cell_type": "code",
   "execution_count": 88,
   "metadata": {},
   "outputs": [
    {
     "data": {
      "text/plain": [
       "array([0, 1])"
      ]
     },
     "execution_count": 88,
     "metadata": {},
     "output_type": "execute_result"
    }
   ],
   "source": [
    "k = np.where((corr_matrix_table_2_2[2] > 0.7))\n",
    "k = k[0][:-1]\n",
    "k"
   ]
  },
  {
   "cell_type": "code",
   "execution_count": 90,
   "metadata": {},
   "outputs": [
    {
     "data": {
      "text/plain": [
       "array([[7.        , 6.        , 7.        , 4.        , 5.        ,\n",
       "        4.        ],\n",
       "       [6.        , 7.        ,        nan, 4.        , 3.        ,\n",
       "        4.        ],\n",
       "       [3.34386392, 3.        , 3.        , 1.        , 1.        ,\n",
       "               nan],\n",
       "       [1.        , 2.        , 2.        , 3.        , 3.        ,\n",
       "        4.        ],\n",
       "       [1.        ,        nan, 1.        , 2.        , 3.        ,\n",
       "        3.        ]])"
      ]
     },
     "execution_count": 90,
     "metadata": {},
     "output_type": "execute_result"
    }
   ],
   "source": [
    "# create a deep copy of table_2_2\n",
    "table_2_1_copy = table_2_1.copy()\n",
    "table_2_1_copy[2,0] = user_mean[2] + np.sum(corr_matrix_table_2_2[2][k]*table_2_2[k,0])/np.sum(np.abs(corr_matrix_table_2_2[2][k]))\n",
    "table_2_1_copy"
   ]
  },
  {
   "cell_type": "markdown",
   "metadata": {},
   "source": [
    "Let us encapsulate this in a function. We will have to specify a correlation-threshold to determine k, and then within the function we create a deep-copy that fills in the NaN-values."
   ]
  },
  {
   "cell_type": "code",
   "execution_count": 122,
   "metadata": {},
   "outputs": [],
   "source": [
    "def imputation_function(table, threshold, dimension):\n",
    "    table_copy = table.copy()\n",
    "    # compute correlation_matrix\n",
    "    corr_matrix = corr_matrix_func(table, dimension)\n",
    "    # compute means\n",
    "    user_mean = mean_compute(table, dimension)\n",
    "    # demean the table\n",
    "    table_copy_dm = demean_func(table_copy)\n",
    "    # for each row in correlation matrix compute the k based on threshold\n",
    "    k = [[] for _ in range(corr_matrix.shape[0])]\n",
    "    for i in range(corr_matrix.shape[0]):\n",
    "        k[i] = np.where((corr_matrix[i] > threshold))[0]\n",
    "    # for each value of k, remove the same number if it is in k, e.g. remove 2 from k[2]\n",
    "    for i in range(corr_matrix.shape[0]):\n",
    "        k[i] = np.setdiff1d(k[i], i)\n",
    "    # for each row and column in the table, compute the imputation\n",
    "    for i in range(table.shape[0]):\n",
    "        for j in range(table.shape[1]):\n",
    "            if np.isnan(table[i,j]):\n",
    "                table_copy[i,j] = user_mean[i] + np.sum(corr_matrix[i][k[i]]*table_copy_dm[k[i],j])/np.sum(np.abs(corr_matrix[i][k[i]]))\n",
    "    return table_copy, corr_matrix, user_mean, k"
   ]
  },
  {
   "cell_type": "code",
   "execution_count": 123,
   "metadata": {},
   "outputs": [],
   "source": [
    "table_2_1_imputed, corr_matrix_comp, user_mean_comp, k_comp = imputation_function(table_2_1, 0.7, 0)"
   ]
  },
  {
   "cell_type": "code",
   "execution_count": 124,
   "metadata": {},
   "outputs": [
    {
     "data": {
      "text/plain": [
       "array([[7.        , 6.        , 7.        , 4.        , 5.        ,\n",
       "        4.        ],\n",
       "       [6.        , 7.        , 6.0135157 , 4.        , 3.        ,\n",
       "        4.        ],\n",
       "       [3.34386392, 3.        , 3.        , 1.        , 1.        ,\n",
       "        0.86431752],\n",
       "       [1.        , 2.        , 2.        , 3.        , 3.        ,\n",
       "        4.        ],\n",
       "       [1.        , 1.5       , 1.        , 2.        , 3.        ,\n",
       "        3.        ]])"
      ]
     },
     "execution_count": 124,
     "metadata": {},
     "output_type": "execute_result"
    }
   ],
   "source": [
    "table_2_1_imputed"
   ]
  },
  {
   "cell_type": "code",
   "execution_count": 125,
   "metadata": {},
   "outputs": [
    {
     "data": {
      "text/plain": [
       "array([[ 1.        ,  0.72347804,  0.89442719, -0.8992288 , -0.82422559],\n",
       "       [ 0.72347804,  1.        ,  0.97072534, -0.72057669, -0.8992288 ],\n",
       "       [ 0.89442719,  0.97072534,  1.        , -1.        , -0.8660254 ],\n",
       "       [-0.8992288 , -0.72057669, -1.        ,  1.        ,  0.87705802],\n",
       "       [-0.82422559, -0.8992288 , -0.8660254 ,  0.87705802,  1.        ]])"
      ]
     },
     "execution_count": 125,
     "metadata": {},
     "output_type": "execute_result"
    }
   ],
   "source": [
    "corr_matrix_comp"
   ]
  },
  {
   "cell_type": "code",
   "execution_count": 126,
   "metadata": {},
   "outputs": [
    {
     "data": {
      "text/plain": [
       "array([5.5, 4.8, 2. , 2.5, 2. ])"
      ]
     },
     "execution_count": 126,
     "metadata": {},
     "output_type": "execute_result"
    }
   ],
   "source": [
    "user_mean_comp"
   ]
  },
  {
   "cell_type": "code",
   "execution_count": 127,
   "metadata": {},
   "outputs": [
    {
     "data": {
      "text/plain": [
       "[array([1, 2]), array([0, 2]), array([0, 1]), array([4]), array([3])]"
      ]
     },
     "execution_count": 127,
     "metadata": {},
     "output_type": "execute_result"
    }
   ],
   "source": [
    "k_comp"
   ]
  },
  {
   "cell_type": "markdown",
   "metadata": {},
   "source": [
    "# Interestingly enough, we can do the entire thing now as well for items!"
   ]
  },
  {
   "cell_type": "code",
   "execution_count": 128,
   "metadata": {},
   "outputs": [
    {
     "name": "stderr",
     "output_type": "stream",
     "text": [
      "C:\\Users\\maggo\\AppData\\Local\\Temp\\ipykernel_18816\\2376229201.py:16: RuntimeWarning: invalid value encountered in scalar divide\n",
      "  corr = numerator/denominator\n"
     ]
    },
    {
     "data": {
      "text/plain": [
       "array([[7.        , 6.        , 7.        , 4.        , 5.        ,\n",
       "        4.        ],\n",
       "       [6.        , 7.        , 5.74252405, 4.        , 3.        ,\n",
       "        4.        ],\n",
       "       [4.59918476, 3.        , 3.        , 1.        , 1.        ,\n",
       "        2.10190223],\n",
       "       [1.        , 2.        , 2.        , 3.        , 3.        ,\n",
       "        4.        ],\n",
       "       [1.        , 2.5       , 1.        , 2.        , 3.        ,\n",
       "        3.        ]])"
      ]
     },
     "execution_count": 128,
     "metadata": {},
     "output_type": "execute_result"
    }
   ],
   "source": [
    "table_2_1_imputed_cols, corr_matrix_comp_cols, user_mean_comp_cols, k_comp_cols = imputation_function(table_2_1, 0.7, 1)\n",
    "table_2_1_imputed_cols"
   ]
  },
  {
   "cell_type": "code",
   "execution_count": 129,
   "metadata": {},
   "outputs": [
    {
     "data": {
      "text/plain": [
       "array([[1.        , 0.94063416, 0.98782916, 0.89714996, 0.67675297,\n",
       "        0.57263713],\n",
       "       [0.94063416, 1.        , 0.99862543, 0.69310328, 0.51449576,\n",
       "               nan],\n",
       "       [0.98782916, 0.99862543, 1.        , 0.6381449 , 0.62092042,\n",
       "        0.62861856],\n",
       "       [0.89714996, 0.69310328, 0.6381449 , 1.        , 0.81348922,\n",
       "        0.87038828],\n",
       "       [0.67675297, 0.51449576, 0.62092042, 0.81348922, 1.        ,\n",
       "        0.33333333],\n",
       "       [0.57263713,        nan, 0.62861856, 0.87038828, 0.33333333,\n",
       "        1.        ]])"
      ]
     },
     "execution_count": 129,
     "metadata": {},
     "output_type": "execute_result"
    }
   ],
   "source": [
    "corr_matrix_comp_cols"
   ]
  },
  {
   "cell_type": "code",
   "execution_count": 130,
   "metadata": {},
   "outputs": [
    {
     "data": {
      "text/plain": [
       "[array([1, 2, 3]),\n",
       " array([0, 2]),\n",
       " array([0, 1]),\n",
       " array([0, 4, 5]),\n",
       " array([3]),\n",
       " array([3])]"
      ]
     },
     "execution_count": 130,
     "metadata": {},
     "output_type": "execute_result"
    }
   ],
   "source": [
    "k_comp_cols"
   ]
  },
  {
   "cell_type": "markdown",
   "metadata": {},
   "source": [
    "# 2. We have now computed using the pearson-correlation coefficient. Next up, let's turn towards using the cosine-distance as well as z-scores."
   ]
  }
 ],
 "metadata": {
  "kernelspec": {
   "display_name": ".venv",
   "language": "python",
   "name": "python3"
  },
  "language_info": {
   "codemirror_mode": {
    "name": "ipython",
    "version": 3
   },
   "file_extension": ".py",
   "mimetype": "text/x-python",
   "name": "python",
   "nbconvert_exporter": "python",
   "pygments_lexer": "ipython3",
   "version": "3.11.3"
  }
 },
 "nbformat": 4,
 "nbformat_minor": 2
}
